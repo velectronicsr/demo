{
 "cells": [
  {
   "cell_type": "code",
   "execution_count": 2,
   "id": "ce285909",
   "metadata": {},
   "outputs": [
    {
     "name": "stdout",
     "output_type": "stream",
     "text": [
      "\n",
      "After instance 1:\n",
      "Specific Hypothesis: ['sunny' 'warm' 'normal' 'strong' 'warm' 'same']\n",
      "General Hypothesis: [['?', '?', '?', '?', '?', '?'], ['?', '?', '?', '?', '?', '?'], ['?', '?', '?', '?', '?', '?'], ['?', '?', '?', '?', '?', '?'], ['?', '?', '?', '?', '?', '?'], ['?', '?', '?', '?', '?', '?']]\n",
      "\n",
      "After instance 2:\n",
      "Specific Hypothesis: ['sunny' 'warm' 'normal' 'strong' 'warm' 'same']\n",
      "General Hypothesis: [['?', '?', '?', '?', '?', '?'], ['?', '?', '?', '?', '?', '?'], ['?', '?', '?', '?', '?', '?'], ['?', '?', '?', '?', '?', '?'], ['?', '?', '?', '?', '?', '?'], ['?', '?', '?', '?', '?', '?']]\n",
      "\n",
      "After instance 3:\n",
      "Specific Hypothesis: ['sunny' 'warm' 'normal' 'strong' 'warm' 'same']\n",
      "General Hypothesis: [['?', '?', '?', '?', '?', '?'], ['?', '?', '?', '?', '?', '?'], ['?', '?', '?', '?', '?', '?'], ['?', '?', '?', '?', '?', '?'], ['?', '?', '?', '?', '?', '?'], ['?', '?', '?', '?', '?', '?']]\n",
      "\n",
      "After instance 4:\n",
      "Specific Hypothesis: ['sunny' 'warm' 'normal' 'strong' 'warm' 'same']\n",
      "General Hypothesis: [['?', '?', '?', '?', '?', '?'], ['?', '?', '?', '?', '?', '?'], ['?', '?', '?', '?', '?', '?'], ['?', '?', '?', '?', '?', '?'], ['?', '?', '?', '?', '?', '?'], ['?', '?', '?', '?', '?', '?']]\n",
      "\n",
      "The Final Specific Hypothesis: ['sunny' 'warm' 'normal' 'strong' 'warm' 'same']\n",
      "\n",
      "The Final General Hypotheses: []\n"
     ]
    }
   ],
   "source": [
    "import pandas as pd\n",
    "\n",
    "data = pd.read_csv('EnjoySport.csv')\n",
    "concepts = data.iloc[:, :-1].values\n",
    "target = data.iloc[:, -1].values\n",
    "\n",
    "specific_h = concepts[0].copy()\n",
    "general_h = [['?' for _ in range(len(specific_h))] for _ in range(len(specific_h))]\n",
    "\n",
    "def learn(concepts, target, specific_h, general_h):\n",
    "    for i, concept in enumerate(concepts):\n",
    "        if target[i] == \"Yes\":\n",
    "            for x in range(len(specific_h)):\n",
    "                if concept[x] != specific_h[x]:\n",
    "                    specific_h[x] = '?'\n",
    "                    general_h[x][x] = '?'\n",
    "        elif target[i] == \"No\":\n",
    "            for x in range(len(specific_h)):\n",
    "                if concept[x] != specific_h[x]:\n",
    "                    general_h[x][x] = specific_h[x]\n",
    "                else:\n",
    "                    general_h[x][x] = '?'\n",
    "        print(f\"\\nAfter instance {i + 1}:\\nSpecific Hypothesis: {specific_h}\\nGeneral Hypothesis: {general_h}\")\n",
    "\n",
    "    general_h = [g for g in general_h if g != ['?' for _ in range(len(specific_h))]]\n",
    "    return specific_h, general_h\n",
    "\n",
    "s_final, g_final = learn(concepts, target, specific_h, general_h)\n",
    "\n",
    "print(\"\\nThe Final Specific Hypothesis:\", s_final)\n",
    "print(\"\\nThe Final General Hypotheses:\", g_final)\n"
   ]
  },
  {
   "cell_type": "code",
   "execution_count": null,
   "id": "39029428",
   "metadata": {},
   "outputs": [],
   "source": []
  }
 ],
 "metadata": {
  "kernelspec": {
   "display_name": "Python 3 (ipykernel)",
   "language": "python",
   "name": "python3"
  },
  "language_info": {
   "codemirror_mode": {
    "name": "ipython",
    "version": 3
   },
   "file_extension": ".py",
   "mimetype": "text/x-python",
   "name": "python",
   "nbconvert_exporter": "python",
   "pygments_lexer": "ipython3",
   "version": "3.11.5"
  }
 },
 "nbformat": 4,
 "nbformat_minor": 5
}
