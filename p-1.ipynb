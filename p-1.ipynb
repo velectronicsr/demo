{
 "cells": [
  {
   "cell_type": "code",
   "execution_count": null,
   "id": "e5963402",
   "metadata": {},
   "outputs": [],
   "source": [
    "import csv\n",
    "\n",
    "hypo = ['%', '%', '%', '%', '%', '%']\n",
    "with open('trainingdata.csv') as csv_file:\n",
    "    readcsv = csv.reader(csv_file, delimiter=',')\n",
    "    print(readcsv)\n",
    "    data = []\n",
    "    print(\"\\nThe given training examples are:\")\n",
    "    for row in readcsv:\n",
    "        print(row)\n",
    "        if row[len(row) - 1].upper() == \"YES\":\n",
    "            data.append(row)\n",
    "    print(\"\\nThe positive examples are:\")\n",
    "    for x in data:\n",
    "        print(x)\n",
    "    print(\"\\n\")\n",
    "\n",
    "    TotalExamples = len(data)\n",
    "    i = 0\n",
    "    j = 0\n",
    "    k = 0\n",
    "    print(\"The steps of the Find-s algorithm are:\\n\", hypo)\n",
    "    list = []\n",
    "    p = 0\n",
    "    d = len(data[p]) - 1\n",
    "    for j in range(d):\n",
    "        list.append(data[i][j])\n",
    "    hypo = list\n",
    "    \n",
    "    i = 1\n",
    "    for i in range(TotalExamples):\n",
    "        for k in range(d):\n",
    "            if hypo[k] != data[i][k]:\n",
    "                hypo[k] = '?'\n",
    "        print(hypo)\n",
    "    \n",
    "    print(\"\\nThe maximally specific find-s hypothesis for the given training examples is:\")\n",
    "    list = []\n",
    "    for i in range(d):\n",
    "        list.append(hypo[i])\n",
    "    print(list)\n"
   ]
  }
 ],
 "metadata": {
  "kernelspec": {
   "display_name": "Python 3 (ipykernel)",
   "language": "python",
   "name": "python3"
  },
  "language_info": {
   "codemirror_mode": {
    "name": "ipython",
    "version": 3
   },
   "file_extension": ".py",
   "mimetype": "text/x-python",
   "name": "python",
   "nbconvert_exporter": "python",
   "pygments_lexer": "ipython3",
   "version": "3.11.5"
  }
 },
 "nbformat": 4,
 "nbformat_minor": 5
}
