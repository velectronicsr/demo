{
 "cells": [
  {
   "cell_type": "code",
   "execution_count": null,
   "id": "8aa2db90",
   "metadata": {},
   "outputs": [],
   "source": [
    "import matplotlib.pyplot as plt\n",
    "from sklearn import datasets\n",
    "from sklearn.cluster import KMeans\n",
    "import sklearn.metrics as sm\n",
    "import pandas as pd\n",
    "import numpy as np\n",
    "from sklearn import preprocessing\n",
    "from sklearn.mixture import GaussianMixture\n",
    "import os\n",
    "os.environ['OMP_NUM_THREADS'] = '1'\n",
    "iris = datasets.load_iris()\n",
    "X = pd.DataFrame(iris.data)\n",
    "X.columns = ['sepal_length', 'sepal_width', 'petal_length', 'petal_width']\n",
    "y = pd.DataFrame(iris.target)\n",
    "y.columns = ['target']\n",
    "model = KMeans(n_clusters=3, n_init=10) \n",
    "model.fit(X)\n",
    "plt.figure(figsize=(18, 14))\n",
    "colormap = np.array(['red', 'lime', 'black'])\n",
    "plt.subplot(2, 2, 1)\n",
    "plt.scatter(X.petal_length, X.petal_width, c=colormap[y.target], s=40)\n",
    "plt.title('Real Clusters')\n",
    "plt.xlabel('Petal Length')\n",
    "plt.ylabel('Petal Width')\n",
    "plt.subplot(2, 2, 2)\n",
    "plt.scatter(X.petal_length, X.petal_width, c=colormap[model.labels_], s=40)\n",
    "plt.title('KMeans Clustering')\n",
    "plt.xlabel('Petal Length')\n",
    "plt.ylabel('Petal Width')\n",
    "kmeans_accuracy = sm.accuracy_score(y, model.labels_)\n",
    "print(\"KMeans Accuracy:\", kmeans_accuracy)\n",
    "print(\"KMeans Confusion Matrix:\\n\", sm.confusion_matrix(y, model.labels_))\n",
    "scaler = preprocessing.StandardScaler()\n",
    "scaler.fit(X)\n",
    "xsa = scaler.transform(X)\n",
    "xs = pd.DataFrame(xsa, columns=X.columns)\n",
    "gmm = GaussianMixture(n_components=3)\n",
    "gmm.fit(xs)\n",
    "gmm_y = gmm.predict(xs)\n",
    "plt.subplot(2, 2, 3)\n",
    "plt.scatter(X.petal_length, X.petal_width, c=colormap[gmm_y], s=40)\n",
    "plt.title('GMM Clustering')\n",
    "plt.xlabel('Petal Length')\n",
    "plt.ylabel('Petal Width')\n",
    "gmm_accuracy = sm.accuracy_score(y, gmm_y)\n",
    "print(\"GMM Accuracy:\", gmm_accuracy)\n",
    "print(\"GMM Confusion Matrix:\\n\", sm.confusion_matrix(y, gmm_y))\n",
    "plt.show()\n",
    "print(\"Observation: GMM-based clustering matched the true labels more closely than KMeans.\")\n"
   ]
  }
 ],
 "metadata": {
  "kernelspec": {
   "display_name": "Python 3 (ipykernel)",
   "language": "python",
   "name": "python3"
  },
  "language_info": {
   "codemirror_mode": {
    "name": "ipython",
    "version": 3
   },
   "file_extension": ".py",
   "mimetype": "text/x-python",
   "name": "python",
   "nbconvert_exporter": "python",
   "pygments_lexer": "ipython3",
   "version": "3.11.5"
  }
 },
 "nbformat": 4,
 "nbformat_minor": 5
}
