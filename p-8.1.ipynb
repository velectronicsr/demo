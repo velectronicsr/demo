{
 "cells": [
  {
   "cell_type": "code",
   "execution_count": 4,
   "id": "eb4d46ea",
   "metadata": {},
   "outputs": [
    {
     "name": "stdout",
     "output_type": "stream",
     "text": [
      "TARGET = 2 virginica PREDICTED = 2 virginica\n",
      "TARGET = 1 versicolor PREDICTED = 1 versicolor\n",
      "TARGET = 0 setosa PREDICTED = 0 setosa\n",
      "TARGET = 2 virginica PREDICTED = 2 virginica\n",
      "TARGET = 0 setosa PREDICTED = 0 setosa\n",
      "TARGET = 2 virginica PREDICTED = 2 virginica\n",
      "TARGET = 0 setosa PREDICTED = 0 setosa\n",
      "TARGET = 1 versicolor PREDICTED = 1 versicolor\n",
      "TARGET = 1 versicolor PREDICTED = 1 versicolor\n",
      "TARGET = 1 versicolor PREDICTED = 1 versicolor\n",
      "TARGET = 2 virginica PREDICTED = 2 virginica\n",
      "TARGET = 1 versicolor PREDICTED = 1 versicolor\n",
      "TARGET = 1 versicolor PREDICTED = 1 versicolor\n",
      "TARGET = 1 versicolor PREDICTED = 1 versicolor\n",
      "TARGET = 1 versicolor PREDICTED = 1 versicolor\n",
      "TARGET = 0 setosa PREDICTED = 0 setosa\n",
      "TARGET = 1 versicolor PREDICTED = 1 versicolor\n",
      "TARGET = 1 versicolor PREDICTED = 1 versicolor\n",
      "TARGET = 0 setosa PREDICTED = 0 setosa\n",
      "TARGET = 0 setosa PREDICTED = 0 setosa\n",
      "TARGET = 2 virginica PREDICTED = 2 virginica\n",
      "TARGET = 1 versicolor PREDICTED = 1 versicolor\n",
      "TARGET = 0 setosa PREDICTED = 0 setosa\n",
      "TARGET = 0 setosa PREDICTED = 0 setosa\n",
      "TARGET = 2 virginica PREDICTED = 2 virginica\n",
      "TARGET = 0 setosa PREDICTED = 0 setosa\n",
      "TARGET = 0 setosa PREDICTED = 0 setosa\n",
      "TARGET = 1 versicolor PREDICTED = 1 versicolor\n",
      "TARGET = 1 versicolor PREDICTED = 1 versicolor\n",
      "TARGET = 0 setosa PREDICTED = 0 setosa\n",
      "TARGET = 2 virginica PREDICTED = 2 virginica\n",
      "TARGET = 1 versicolor PREDICTED = 1 versicolor\n",
      "TARGET = 0 setosa PREDICTED = 0 setosa\n",
      "TARGET = 2 virginica PREDICTED = 2 virginica\n",
      "TARGET = 2 virginica PREDICTED = 2 virginica\n",
      "TARGET = 1 versicolor PREDICTED = 1 versicolor\n",
      "TARGET = 0 setosa PREDICTED = 0 setosa\n",
      "TARGET = 1 versicolor PREDICTED = 2 virginica\n",
      "Accuracy: 0.9736842105263158\n"
     ]
    }
   ],
   "source": [
    "from sklearn.datasets import load_iris\n",
    "from sklearn.neighbors import KNeighborsClassifier\n",
    "from sklearn.model_selection import train_test_split\n",
    "import numpy as np\n",
    "dataset = load_iris()\n",
    "X_train, X_test, y_train, y_test = train_test_split(dataset[\"data\"], dataset[\"target\"], random_state=0)\n",
    "kn = KNeighborsClassifier(n_neighbors=1)\n",
    "kn.fit(X_train, y_train)\n",
    "for i in range(len(X_test)):\n",
    "    x = X_test[i]\n",
    "    x_new = np.array([x])\n",
    "    prediction = kn.predict(x_new)\n",
    "    print(\"TARGET =\", y_test[i], dataset[\"target_names\"][y_test[i]], \n",
    "          \"PREDICTED =\", prediction[0], dataset[\"target_names\"][prediction[0]])\n",
    "print(\"Accuracy:\", kn.score(X_test, y_test))"
   ]
  },
  {
   "cell_type": "code",
   "execution_count": null,
   "id": "2fd6ab08",
   "metadata": {},
   "outputs": [],
   "source": []
  }
 ],
 "metadata": {
  "kernelspec": {
   "display_name": "Python 3 (ipykernel)",
   "language": "python",
   "name": "python3"
  },
  "language_info": {
   "codemirror_mode": {
    "name": "ipython",
    "version": 3
   },
   "file_extension": ".py",
   "mimetype": "text/x-python",
   "name": "python",
   "nbconvert_exporter": "python",
   "pygments_lexer": "ipython3",
   "version": "3.11.5"
  }
 },
 "nbformat": 4,
 "nbformat_minor": 5
}
